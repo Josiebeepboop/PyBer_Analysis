{
 "cells": [
  {
   "cell_type": "markdown",
   "metadata": {},
   "source": [
    "# Pyber Challenge"
   ]
  },
  {
   "cell_type": "markdown",
   "metadata": {},
   "source": [
    "### 4.3 Loading and Reading CSV files"
   ]
  },
  {
   "cell_type": "code",
   "execution_count": 1,
   "metadata": {},
   "outputs": [],
   "source": [
    "# Add Matplotlib inline magic command\n",
    "%matplotlib inline\n",
    "# Dependencies and Setup\n",
    "import matplotlib.pyplot as plt\n",
    "import pandas as pd\n",
    "\n",
    "# File to Load (Remember to change these)\n",
    "city_data_to_load = \"Resources/city_data.csv\"\n",
    "ride_data_to_load = \"Resources/ride_data.csv\"\n",
    "\n",
    "# Read the City and Ride Data\n",
    "city_data_df = pd.read_csv(city_data_to_load)\n",
    "ride_data_df = pd.read_csv(ride_data_to_load)"
   ]
  },
  {
   "cell_type": "markdown",
   "metadata": {},
   "source": [
    "### Merge the DataFrames"
   ]
  },
  {
   "cell_type": "code",
   "execution_count": 2,
   "metadata": {
    "scrolled": false
   },
   "outputs": [
    {
     "data": {
      "text/html": [
       "<div>\n",
       "<style scoped>\n",
       "    .dataframe tbody tr th:only-of-type {\n",
       "        vertical-align: middle;\n",
       "    }\n",
       "\n",
       "    .dataframe tbody tr th {\n",
       "        vertical-align: top;\n",
       "    }\n",
       "\n",
       "    .dataframe thead th {\n",
       "        text-align: right;\n",
       "    }\n",
       "</style>\n",
       "<table border=\"1\" class=\"dataframe\">\n",
       "  <thead>\n",
       "    <tr style=\"text-align: right;\">\n",
       "      <th></th>\n",
       "      <th>city</th>\n",
       "      <th>date</th>\n",
       "      <th>fare</th>\n",
       "      <th>ride_id</th>\n",
       "      <th>driver_count</th>\n",
       "      <th>type</th>\n",
       "    </tr>\n",
       "  </thead>\n",
       "  <tbody>\n",
       "    <tr>\n",
       "      <th>0</th>\n",
       "      <td>Lake Jonathanshire</td>\n",
       "      <td>2019-01-14 10:14:22</td>\n",
       "      <td>13.83</td>\n",
       "      <td>5739410935873</td>\n",
       "      <td>5</td>\n",
       "      <td>Urban</td>\n",
       "    </tr>\n",
       "    <tr>\n",
       "      <th>1</th>\n",
       "      <td>South Michelleport</td>\n",
       "      <td>2019-03-04 18:24:09</td>\n",
       "      <td>30.24</td>\n",
       "      <td>2343912425577</td>\n",
       "      <td>72</td>\n",
       "      <td>Urban</td>\n",
       "    </tr>\n",
       "    <tr>\n",
       "      <th>2</th>\n",
       "      <td>Port Samanthamouth</td>\n",
       "      <td>2019-02-24 04:29:00</td>\n",
       "      <td>33.44</td>\n",
       "      <td>2005065760003</td>\n",
       "      <td>57</td>\n",
       "      <td>Urban</td>\n",
       "    </tr>\n",
       "    <tr>\n",
       "      <th>3</th>\n",
       "      <td>Rodneyfort</td>\n",
       "      <td>2019-02-10 23:22:03</td>\n",
       "      <td>23.44</td>\n",
       "      <td>5149245426178</td>\n",
       "      <td>34</td>\n",
       "      <td>Urban</td>\n",
       "    </tr>\n",
       "    <tr>\n",
       "      <th>4</th>\n",
       "      <td>South Jack</td>\n",
       "      <td>2019-03-06 04:28:35</td>\n",
       "      <td>34.58</td>\n",
       "      <td>3908451377344</td>\n",
       "      <td>46</td>\n",
       "      <td>Urban</td>\n",
       "    </tr>\n",
       "  </tbody>\n",
       "</table>\n",
       "</div>"
      ],
      "text/plain": [
       "                 city                 date   fare        ride_id  \\\n",
       "0  Lake Jonathanshire  2019-01-14 10:14:22  13.83  5739410935873   \n",
       "1  South Michelleport  2019-03-04 18:24:09  30.24  2343912425577   \n",
       "2  Port Samanthamouth  2019-02-24 04:29:00  33.44  2005065760003   \n",
       "3          Rodneyfort  2019-02-10 23:22:03  23.44  5149245426178   \n",
       "4          South Jack  2019-03-06 04:28:35  34.58  3908451377344   \n",
       "\n",
       "   driver_count   type  \n",
       "0             5  Urban  \n",
       "1            72  Urban  \n",
       "2            57  Urban  \n",
       "3            34  Urban  \n",
       "4            46  Urban  "
      ]
     },
     "execution_count": 2,
     "metadata": {},
     "output_type": "execute_result"
    }
   ],
   "source": [
    "# Combine the data into a single dataset\n",
    "pyber_data_df = pd.merge(ride_data_df, city_data_df, how=\"left\", on=[\"city\", \"city\"])\n",
    "\n",
    "# Display the data table for preview\n",
    "pyber_data_df.head()"
   ]
  },
  {
   "cell_type": "markdown",
   "metadata": {},
   "source": [
    "## Deliverable 1: Get a Summary DataFrame "
   ]
  },
  {
   "cell_type": "code",
   "execution_count": 3,
   "metadata": {},
   "outputs": [
    {
     "data": {
      "text/plain": [
       "type\n",
       "Rural        125\n",
       "Suburban     625\n",
       "Urban       1625\n",
       "Name: ride_id, dtype: int64"
      ]
     },
     "execution_count": 3,
     "metadata": {},
     "output_type": "execute_result"
    }
   ],
   "source": [
    "#  1. Get the total rides for each city type\n",
    "ride_count_by_type = pyber_data_df.groupby(['type']).count()['ride_id']\n",
    "ride_count_by_type"
   ]
  },
  {
   "cell_type": "code",
   "execution_count": 4,
   "metadata": {},
   "outputs": [
    {
     "data": {
      "text/plain": [
       "type\n",
       "Rural         78\n",
       "Suburban     490\n",
       "Urban       2405\n",
       "Name: driver_count, dtype: int64"
      ]
     },
     "execution_count": 4,
     "metadata": {},
     "output_type": "execute_result"
    }
   ],
   "source": [
    "# 2. Get the total drivers for each city type\n",
    "total_drivers_by_type = city_data_df.groupby(['type']).sum()['driver_count']\n",
    "total_drivers_by_type"
   ]
  },
  {
   "cell_type": "code",
   "execution_count": 5,
   "metadata": {},
   "outputs": [
    {
     "data": {
      "text/plain": [
       "type\n",
       "Rural        4327.93\n",
       "Suburban    19356.33\n",
       "Urban       39854.38\n",
       "Name: fare, dtype: float64"
      ]
     },
     "execution_count": 5,
     "metadata": {},
     "output_type": "execute_result"
    }
   ],
   "source": [
    "#  3. Get the total amount of fares for each city type\n",
    "total_fare_by_type = pyber_data_df.groupby(['type']).sum()['fare']\n",
    "total_fare_by_type"
   ]
  },
  {
   "cell_type": "code",
   "execution_count": 6,
   "metadata": {},
   "outputs": [
    {
     "data": {
      "text/plain": [
       "type\n",
       "Rural       34.623440\n",
       "Suburban    30.970128\n",
       "Urban       24.525772\n",
       "dtype: float64"
      ]
     },
     "execution_count": 6,
     "metadata": {},
     "output_type": "execute_result"
    }
   ],
   "source": [
    "#  4. Get the average fare per ride for each city type. \n",
    "avg_fare_per_ride = total_fare_by_type / ride_count_by_type\n",
    "avg_fare_per_ride"
   ]
  },
  {
   "cell_type": "code",
   "execution_count": 7,
   "metadata": {},
   "outputs": [
    {
     "data": {
      "text/plain": [
       "type\n",
       "Rural       55.486282\n",
       "Suburban    39.502714\n",
       "Urban       16.571468\n",
       "dtype: float64"
      ]
     },
     "execution_count": 7,
     "metadata": {},
     "output_type": "execute_result"
    }
   ],
   "source": [
    "# 5. Get the average fare per driver for each city type. \n",
    "avg_fare_per_driver = total_fare_by_type / total_drivers_by_type\n",
    "avg_fare_per_driver"
   ]
  },
  {
   "cell_type": "code",
   "execution_count": 8,
   "metadata": {},
   "outputs": [
    {
     "data": {
      "text/html": [
       "<div>\n",
       "<style scoped>\n",
       "    .dataframe tbody tr th:only-of-type {\n",
       "        vertical-align: middle;\n",
       "    }\n",
       "\n",
       "    .dataframe tbody tr th {\n",
       "        vertical-align: top;\n",
       "    }\n",
       "\n",
       "    .dataframe thead th {\n",
       "        text-align: right;\n",
       "    }\n",
       "</style>\n",
       "<table border=\"1\" class=\"dataframe\">\n",
       "  <thead>\n",
       "    <tr style=\"text-align: right;\">\n",
       "      <th></th>\n",
       "      <th>Total Rides</th>\n",
       "      <th>Total Drivers</th>\n",
       "      <th>Total Fares</th>\n",
       "      <th>Average Fare per Ride</th>\n",
       "      <th>Average Fare per Driver</th>\n",
       "    </tr>\n",
       "    <tr>\n",
       "      <th>type</th>\n",
       "      <th></th>\n",
       "      <th></th>\n",
       "      <th></th>\n",
       "      <th></th>\n",
       "      <th></th>\n",
       "    </tr>\n",
       "  </thead>\n",
       "  <tbody>\n",
       "    <tr>\n",
       "      <th>Rural</th>\n",
       "      <td>125</td>\n",
       "      <td>78</td>\n",
       "      <td>4327.93</td>\n",
       "      <td>34.623440</td>\n",
       "      <td>55.486282</td>\n",
       "    </tr>\n",
       "    <tr>\n",
       "      <th>Suburban</th>\n",
       "      <td>625</td>\n",
       "      <td>490</td>\n",
       "      <td>19356.33</td>\n",
       "      <td>30.970128</td>\n",
       "      <td>39.502714</td>\n",
       "    </tr>\n",
       "    <tr>\n",
       "      <th>Urban</th>\n",
       "      <td>1625</td>\n",
       "      <td>2405</td>\n",
       "      <td>39854.38</td>\n",
       "      <td>24.525772</td>\n",
       "      <td>16.571468</td>\n",
       "    </tr>\n",
       "  </tbody>\n",
       "</table>\n",
       "</div>"
      ],
      "text/plain": [
       "          Total Rides  Total Drivers  Total Fares  Average Fare per Ride  \\\n",
       "type                                                                       \n",
       "Rural             125             78      4327.93              34.623440   \n",
       "Suburban          625            490     19356.33              30.970128   \n",
       "Urban            1625           2405     39854.38              24.525772   \n",
       "\n",
       "          Average Fare per Driver  \n",
       "type                               \n",
       "Rural                   55.486282  \n",
       "Suburban                39.502714  \n",
       "Urban                   16.571468  "
      ]
     },
     "execution_count": 8,
     "metadata": {},
     "output_type": "execute_result"
    }
   ],
   "source": [
    "#  6. Create a PyBer summary DataFrame. \n",
    "pyber_summary_df = pd.DataFrame()\n",
    "pyber_summary_df['Total Rides']=ride_count_by_type\n",
    "pyber_summary_df['Total Drivers']=total_drivers_by_type\n",
    "pyber_summary_df['Total Fares']=total_fare_by_type\n",
    "pyber_summary_df['Average Fare per Ride']=avg_fare_per_ride\n",
    "pyber_summary_df['Average Fare per Driver']=avg_fare_per_driver\n",
    "pyber_summary_df.head()"
   ]
  },
  {
   "cell_type": "code",
   "execution_count": 9,
   "metadata": {},
   "outputs": [
    {
     "data": {
      "text/html": [
       "<div>\n",
       "<style scoped>\n",
       "    .dataframe tbody tr th:only-of-type {\n",
       "        vertical-align: middle;\n",
       "    }\n",
       "\n",
       "    .dataframe tbody tr th {\n",
       "        vertical-align: top;\n",
       "    }\n",
       "\n",
       "    .dataframe thead th {\n",
       "        text-align: right;\n",
       "    }\n",
       "</style>\n",
       "<table border=\"1\" class=\"dataframe\">\n",
       "  <thead>\n",
       "    <tr style=\"text-align: right;\">\n",
       "      <th></th>\n",
       "      <th>Total Rides</th>\n",
       "      <th>Total Drivers</th>\n",
       "      <th>Total Fares</th>\n",
       "      <th>Average Fare per Ride</th>\n",
       "      <th>Average Fare per Driver</th>\n",
       "    </tr>\n",
       "  </thead>\n",
       "  <tbody>\n",
       "    <tr>\n",
       "      <th>Rural</th>\n",
       "      <td>125</td>\n",
       "      <td>78</td>\n",
       "      <td>4327.93</td>\n",
       "      <td>34.623440</td>\n",
       "      <td>55.486282</td>\n",
       "    </tr>\n",
       "    <tr>\n",
       "      <th>Suburban</th>\n",
       "      <td>625</td>\n",
       "      <td>490</td>\n",
       "      <td>19356.33</td>\n",
       "      <td>30.970128</td>\n",
       "      <td>39.502714</td>\n",
       "    </tr>\n",
       "    <tr>\n",
       "      <th>Urban</th>\n",
       "      <td>1625</td>\n",
       "      <td>2405</td>\n",
       "      <td>39854.38</td>\n",
       "      <td>24.525772</td>\n",
       "      <td>16.571468</td>\n",
       "    </tr>\n",
       "  </tbody>\n",
       "</table>\n",
       "</div>"
      ],
      "text/plain": [
       "          Total Rides  Total Drivers  Total Fares  Average Fare per Ride  \\\n",
       "Rural             125             78      4327.93              34.623440   \n",
       "Suburban          625            490     19356.33              30.970128   \n",
       "Urban            1625           2405     39854.38              24.525772   \n",
       "\n",
       "          Average Fare per Driver  \n",
       "Rural                   55.486282  \n",
       "Suburban                39.502714  \n",
       "Urban                   16.571468  "
      ]
     },
     "execution_count": 9,
     "metadata": {},
     "output_type": "execute_result"
    }
   ],
   "source": [
    "#  7. Cleaning up the DataFrame. Delete the index name\n",
    "pyber_summary_df.index.name = None\n",
    "pyber_summary_df"
   ]
  },
  {
   "cell_type": "code",
   "execution_count": 10,
   "metadata": {},
   "outputs": [
    {
     "data": {
      "text/html": [
       "<style type=\"text/css\">\n",
       "</style>\n",
       "<table id=\"T_23d24_\">\n",
       "  <thead>\n",
       "    <tr>\n",
       "      <th class=\"blank level0\" >&nbsp;</th>\n",
       "      <th class=\"col_heading level0 col0\" >Total Rides</th>\n",
       "      <th class=\"col_heading level0 col1\" >Total Drivers</th>\n",
       "      <th class=\"col_heading level0 col2\" >Total Fares</th>\n",
       "      <th class=\"col_heading level0 col3\" >Average Fare per Ride</th>\n",
       "      <th class=\"col_heading level0 col4\" >Average Fare per Driver</th>\n",
       "    </tr>\n",
       "  </thead>\n",
       "  <tbody>\n",
       "    <tr>\n",
       "      <th id=\"T_23d24_level0_row0\" class=\"row_heading level0 row0\" >Rural</th>\n",
       "      <td id=\"T_23d24_row0_col0\" class=\"data row0 col0\" >125</td>\n",
       "      <td id=\"T_23d24_row0_col1\" class=\"data row0 col1\" >78</td>\n",
       "      <td id=\"T_23d24_row0_col2\" class=\"data row0 col2\" >$4,327.93</td>\n",
       "      <td id=\"T_23d24_row0_col3\" class=\"data row0 col3\" >$34.62</td>\n",
       "      <td id=\"T_23d24_row0_col4\" class=\"data row0 col4\" >$55.49</td>\n",
       "    </tr>\n",
       "    <tr>\n",
       "      <th id=\"T_23d24_level0_row1\" class=\"row_heading level0 row1\" >Suburban</th>\n",
       "      <td id=\"T_23d24_row1_col0\" class=\"data row1 col0\" >625</td>\n",
       "      <td id=\"T_23d24_row1_col1\" class=\"data row1 col1\" >490</td>\n",
       "      <td id=\"T_23d24_row1_col2\" class=\"data row1 col2\" >$19,356.33</td>\n",
       "      <td id=\"T_23d24_row1_col3\" class=\"data row1 col3\" >$30.97</td>\n",
       "      <td id=\"T_23d24_row1_col4\" class=\"data row1 col4\" >$39.50</td>\n",
       "    </tr>\n",
       "    <tr>\n",
       "      <th id=\"T_23d24_level0_row2\" class=\"row_heading level0 row2\" >Urban</th>\n",
       "      <td id=\"T_23d24_row2_col0\" class=\"data row2 col0\" >1,625</td>\n",
       "      <td id=\"T_23d24_row2_col1\" class=\"data row2 col1\" >2,405</td>\n",
       "      <td id=\"T_23d24_row2_col2\" class=\"data row2 col2\" >$39,854.38</td>\n",
       "      <td id=\"T_23d24_row2_col3\" class=\"data row2 col3\" >$24.53</td>\n",
       "      <td id=\"T_23d24_row2_col4\" class=\"data row2 col4\" >$16.57</td>\n",
       "    </tr>\n",
       "  </tbody>\n",
       "</table>\n"
      ],
      "text/plain": [
       "<pandas.io.formats.style.Styler at 0x17c6138dec8>"
      ]
     },
     "execution_count": 10,
     "metadata": {},
     "output_type": "execute_result"
    }
   ],
   "source": [
    "#  8. Format the columns.\n",
    " \n",
    "pyber_summary_df_formatted = pyber_summary_df.style.format({\n",
    "    \"Total Rides\":'{:,}',\n",
    "    \"Total Drivers\":'{:,}',\n",
    "    \"Total Fares\":'${:,.2f}',\n",
    "    \"Average Fare per Ride\":'${:.2f}',\n",
    "    \"Average Fare per Driver\":'${:.2f}',\n",
    "})\n",
    "pyber_summary_df_formatted"
   ]
  },
  {
   "cell_type": "markdown",
   "metadata": {},
   "source": [
    "## Deliverable 2.  Create a multiple line plot that shows the total weekly of the fares for each type of city."
   ]
  },
  {
   "cell_type": "code",
   "execution_count": 11,
   "metadata": {},
   "outputs": [
    {
     "data": {
      "text/html": [
       "<div>\n",
       "<style scoped>\n",
       "    .dataframe tbody tr th:only-of-type {\n",
       "        vertical-align: middle;\n",
       "    }\n",
       "\n",
       "    .dataframe tbody tr th {\n",
       "        vertical-align: top;\n",
       "    }\n",
       "\n",
       "    .dataframe thead th {\n",
       "        text-align: right;\n",
       "    }\n",
       "</style>\n",
       "<table border=\"1\" class=\"dataframe\">\n",
       "  <thead>\n",
       "    <tr style=\"text-align: right;\">\n",
       "      <th></th>\n",
       "      <th>city</th>\n",
       "      <th>date</th>\n",
       "      <th>fare</th>\n",
       "      <th>ride_id</th>\n",
       "      <th>driver_count</th>\n",
       "      <th>type</th>\n",
       "    </tr>\n",
       "  </thead>\n",
       "  <tbody>\n",
       "    <tr>\n",
       "      <th>0</th>\n",
       "      <td>Lake Jonathanshire</td>\n",
       "      <td>2019-01-14 10:14:22</td>\n",
       "      <td>13.83</td>\n",
       "      <td>5739410935873</td>\n",
       "      <td>5</td>\n",
       "      <td>Urban</td>\n",
       "    </tr>\n",
       "    <tr>\n",
       "      <th>1</th>\n",
       "      <td>South Michelleport</td>\n",
       "      <td>2019-03-04 18:24:09</td>\n",
       "      <td>30.24</td>\n",
       "      <td>2343912425577</td>\n",
       "      <td>72</td>\n",
       "      <td>Urban</td>\n",
       "    </tr>\n",
       "    <tr>\n",
       "      <th>2</th>\n",
       "      <td>Port Samanthamouth</td>\n",
       "      <td>2019-02-24 04:29:00</td>\n",
       "      <td>33.44</td>\n",
       "      <td>2005065760003</td>\n",
       "      <td>57</td>\n",
       "      <td>Urban</td>\n",
       "    </tr>\n",
       "    <tr>\n",
       "      <th>3</th>\n",
       "      <td>Rodneyfort</td>\n",
       "      <td>2019-02-10 23:22:03</td>\n",
       "      <td>23.44</td>\n",
       "      <td>5149245426178</td>\n",
       "      <td>34</td>\n",
       "      <td>Urban</td>\n",
       "    </tr>\n",
       "    <tr>\n",
       "      <th>4</th>\n",
       "      <td>South Jack</td>\n",
       "      <td>2019-03-06 04:28:35</td>\n",
       "      <td>34.58</td>\n",
       "      <td>3908451377344</td>\n",
       "      <td>46</td>\n",
       "      <td>Urban</td>\n",
       "    </tr>\n",
       "  </tbody>\n",
       "</table>\n",
       "</div>"
      ],
      "text/plain": [
       "                 city                 date   fare        ride_id  \\\n",
       "0  Lake Jonathanshire  2019-01-14 10:14:22  13.83  5739410935873   \n",
       "1  South Michelleport  2019-03-04 18:24:09  30.24  2343912425577   \n",
       "2  Port Samanthamouth  2019-02-24 04:29:00  33.44  2005065760003   \n",
       "3          Rodneyfort  2019-02-10 23:22:03  23.44  5149245426178   \n",
       "4          South Jack  2019-03-06 04:28:35  34.58  3908451377344   \n",
       "\n",
       "   driver_count   type  \n",
       "0             5  Urban  \n",
       "1            72  Urban  \n",
       "2            57  Urban  \n",
       "3            34  Urban  \n",
       "4            46  Urban  "
      ]
     },
     "execution_count": 11,
     "metadata": {},
     "output_type": "execute_result"
    }
   ],
   "source": [
    "# 1. Read the merged DataFrame\n",
    "pyber_data_df.head()"
   ]
  },
  {
   "cell_type": "code",
   "execution_count": 12,
   "metadata": {},
   "outputs": [
    {
     "data": {
      "text/plain": [
       "type   date               \n",
       "Rural  2019-01-01 09:45:36    43.69\n",
       "       2019-01-02 11:18:32    52.12\n",
       "       2019-01-03 19:51:01    19.90\n",
       "       2019-01-04 03:31:26    24.88\n",
       "       2019-01-06 07:38:40    47.33\n",
       "Name: fare, dtype: float64"
      ]
     },
     "execution_count": 12,
     "metadata": {},
     "output_type": "execute_result"
    }
   ],
   "source": [
    "# 2. Using groupby() to create a new DataFrame showing the sum of the fares \n",
    "#  for each date where the indices are the city type and date.\n",
    "total_fare_per_date = pyber_data_df.groupby(['type','date']).sum()['fare']\n",
    "total_fare_per_date.head()"
   ]
  },
  {
   "cell_type": "code",
   "execution_count": 13,
   "metadata": {},
   "outputs": [
    {
     "data": {
      "text/html": [
       "<div>\n",
       "<style scoped>\n",
       "    .dataframe tbody tr th:only-of-type {\n",
       "        vertical-align: middle;\n",
       "    }\n",
       "\n",
       "    .dataframe tbody tr th {\n",
       "        vertical-align: top;\n",
       "    }\n",
       "\n",
       "    .dataframe thead th {\n",
       "        text-align: right;\n",
       "    }\n",
       "</style>\n",
       "<table border=\"1\" class=\"dataframe\">\n",
       "  <thead>\n",
       "    <tr style=\"text-align: right;\">\n",
       "      <th></th>\n",
       "      <th>type</th>\n",
       "      <th>date</th>\n",
       "      <th>fare</th>\n",
       "    </tr>\n",
       "  </thead>\n",
       "  <tbody>\n",
       "    <tr>\n",
       "      <th>0</th>\n",
       "      <td>Rural</td>\n",
       "      <td>2019-01-01 09:45:36</td>\n",
       "      <td>43.69</td>\n",
       "    </tr>\n",
       "    <tr>\n",
       "      <th>1</th>\n",
       "      <td>Rural</td>\n",
       "      <td>2019-01-02 11:18:32</td>\n",
       "      <td>52.12</td>\n",
       "    </tr>\n",
       "    <tr>\n",
       "      <th>2</th>\n",
       "      <td>Rural</td>\n",
       "      <td>2019-01-03 19:51:01</td>\n",
       "      <td>19.90</td>\n",
       "    </tr>\n",
       "    <tr>\n",
       "      <th>3</th>\n",
       "      <td>Rural</td>\n",
       "      <td>2019-01-04 03:31:26</td>\n",
       "      <td>24.88</td>\n",
       "    </tr>\n",
       "    <tr>\n",
       "      <th>4</th>\n",
       "      <td>Rural</td>\n",
       "      <td>2019-01-06 07:38:40</td>\n",
       "      <td>47.33</td>\n",
       "    </tr>\n",
       "  </tbody>\n",
       "</table>\n",
       "</div>"
      ],
      "text/plain": [
       "    type                 date   fare\n",
       "0  Rural  2019-01-01 09:45:36  43.69\n",
       "1  Rural  2019-01-02 11:18:32  52.12\n",
       "2  Rural  2019-01-03 19:51:01  19.90\n",
       "3  Rural  2019-01-04 03:31:26  24.88\n",
       "4  Rural  2019-01-06 07:38:40  47.33"
      ]
     },
     "execution_count": 13,
     "metadata": {},
     "output_type": "execute_result"
    }
   ],
   "source": [
    "# 3. Reset the index on the DataFrame you created in #1. This is needed to use the 'pivot()' function.\n",
    "# df = df.reset_index()\n",
    "total_fare_per_date = total_fare_per_date.reset_index()\n",
    "total_fare_per_date.head()"
   ]
  },
  {
   "cell_type": "code",
   "execution_count": 14,
   "metadata": {},
   "outputs": [
    {
     "data": {
      "text/html": [
       "<div>\n",
       "<style scoped>\n",
       "    .dataframe tbody tr th:only-of-type {\n",
       "        vertical-align: middle;\n",
       "    }\n",
       "\n",
       "    .dataframe tbody tr th {\n",
       "        vertical-align: top;\n",
       "    }\n",
       "\n",
       "    .dataframe thead th {\n",
       "        text-align: right;\n",
       "    }\n",
       "</style>\n",
       "<table border=\"1\" class=\"dataframe\">\n",
       "  <thead>\n",
       "    <tr style=\"text-align: right;\">\n",
       "      <th>type</th>\n",
       "      <th>Rural</th>\n",
       "      <th>Suburban</th>\n",
       "      <th>Urban</th>\n",
       "    </tr>\n",
       "    <tr>\n",
       "      <th>date</th>\n",
       "      <th></th>\n",
       "      <th></th>\n",
       "      <th></th>\n",
       "    </tr>\n",
       "  </thead>\n",
       "  <tbody>\n",
       "    <tr>\n",
       "      <th>2019-01-01 00:08:16</th>\n",
       "      <td>NaN</td>\n",
       "      <td>NaN</td>\n",
       "      <td>37.91</td>\n",
       "    </tr>\n",
       "    <tr>\n",
       "      <th>2019-01-01 00:46:46</th>\n",
       "      <td>NaN</td>\n",
       "      <td>47.74</td>\n",
       "      <td>NaN</td>\n",
       "    </tr>\n",
       "    <tr>\n",
       "      <th>2019-01-01 02:07:24</th>\n",
       "      <td>NaN</td>\n",
       "      <td>24.07</td>\n",
       "      <td>NaN</td>\n",
       "    </tr>\n",
       "    <tr>\n",
       "      <th>2019-01-01 03:46:50</th>\n",
       "      <td>NaN</td>\n",
       "      <td>NaN</td>\n",
       "      <td>7.57</td>\n",
       "    </tr>\n",
       "    <tr>\n",
       "      <th>2019-01-01 05:23:21</th>\n",
       "      <td>NaN</td>\n",
       "      <td>NaN</td>\n",
       "      <td>10.75</td>\n",
       "    </tr>\n",
       "    <tr>\n",
       "      <th>2019-01-01 09:45:36</th>\n",
       "      <td>43.69</td>\n",
       "      <td>NaN</td>\n",
       "      <td>NaN</td>\n",
       "    </tr>\n",
       "    <tr>\n",
       "      <th>2019-01-01 12:32:48</th>\n",
       "      <td>NaN</td>\n",
       "      <td>25.56</td>\n",
       "      <td>NaN</td>\n",
       "    </tr>\n",
       "    <tr>\n",
       "      <th>2019-01-01 14:40:14</th>\n",
       "      <td>NaN</td>\n",
       "      <td>NaN</td>\n",
       "      <td>5.42</td>\n",
       "    </tr>\n",
       "    <tr>\n",
       "      <th>2019-01-01 14:42:25</th>\n",
       "      <td>NaN</td>\n",
       "      <td>NaN</td>\n",
       "      <td>12.31</td>\n",
       "    </tr>\n",
       "    <tr>\n",
       "      <th>2019-01-01 14:52:06</th>\n",
       "      <td>NaN</td>\n",
       "      <td>31.15</td>\n",
       "      <td>NaN</td>\n",
       "    </tr>\n",
       "  </tbody>\n",
       "</table>\n",
       "</div>"
      ],
      "text/plain": [
       "type                 Rural  Suburban  Urban\n",
       "date                                       \n",
       "2019-01-01 00:08:16    NaN       NaN  37.91\n",
       "2019-01-01 00:46:46    NaN     47.74    NaN\n",
       "2019-01-01 02:07:24    NaN     24.07    NaN\n",
       "2019-01-01 03:46:50    NaN       NaN   7.57\n",
       "2019-01-01 05:23:21    NaN       NaN  10.75\n",
       "2019-01-01 09:45:36  43.69       NaN    NaN\n",
       "2019-01-01 12:32:48    NaN     25.56    NaN\n",
       "2019-01-01 14:40:14    NaN       NaN   5.42\n",
       "2019-01-01 14:42:25    NaN       NaN  12.31\n",
       "2019-01-01 14:52:06    NaN     31.15    NaN"
      ]
     },
     "execution_count": 14,
     "metadata": {},
     "output_type": "execute_result"
    }
   ],
   "source": [
    "# 4. Create a pivot table with the 'date' as the index, the columns ='type', and values='fare' \n",
    "# to get the total fares for each type of city by the date. \n",
    "fare_pivot = total_fare_per_date.pivot(index='date',columns='type',values='fare')\n",
    "fare_pivot.head(10)"
   ]
  },
  {
   "cell_type": "code",
   "execution_count": 15,
   "metadata": {},
   "outputs": [
    {
     "data": {
      "text/html": [
       "<div>\n",
       "<style scoped>\n",
       "    .dataframe tbody tr th:only-of-type {\n",
       "        vertical-align: middle;\n",
       "    }\n",
       "\n",
       "    .dataframe tbody tr th {\n",
       "        vertical-align: top;\n",
       "    }\n",
       "\n",
       "    .dataframe thead th {\n",
       "        text-align: right;\n",
       "    }\n",
       "</style>\n",
       "<table border=\"1\" class=\"dataframe\">\n",
       "  <thead>\n",
       "    <tr style=\"text-align: right;\">\n",
       "      <th>type</th>\n",
       "      <th>Rural</th>\n",
       "      <th>Suburban</th>\n",
       "      <th>Urban</th>\n",
       "    </tr>\n",
       "    <tr>\n",
       "      <th>date</th>\n",
       "      <th></th>\n",
       "      <th></th>\n",
       "      <th></th>\n",
       "    </tr>\n",
       "  </thead>\n",
       "  <tbody>\n",
       "    <tr>\n",
       "      <th>2019-04-28 09:25:03</th>\n",
       "      <td>NaN</td>\n",
       "      <td>NaN</td>\n",
       "      <td>37.35</td>\n",
       "    </tr>\n",
       "    <tr>\n",
       "      <th>2019-04-28 10:54:14</th>\n",
       "      <td>NaN</td>\n",
       "      <td>NaN</td>\n",
       "      <td>10.07</td>\n",
       "    </tr>\n",
       "    <tr>\n",
       "      <th>2019-04-28 11:40:49</th>\n",
       "      <td>NaN</td>\n",
       "      <td>43.22</td>\n",
       "      <td>NaN</td>\n",
       "    </tr>\n",
       "    <tr>\n",
       "      <th>2019-04-28 11:49:26</th>\n",
       "      <td>NaN</td>\n",
       "      <td>39.19</td>\n",
       "      <td>NaN</td>\n",
       "    </tr>\n",
       "    <tr>\n",
       "      <th>2019-04-28 12:48:34</th>\n",
       "      <td>NaN</td>\n",
       "      <td>NaN</td>\n",
       "      <td>33.35</td>\n",
       "    </tr>\n",
       "    <tr>\n",
       "      <th>2019-04-28 14:28:36</th>\n",
       "      <td>NaN</td>\n",
       "      <td>NaN</td>\n",
       "      <td>11.46</td>\n",
       "    </tr>\n",
       "    <tr>\n",
       "      <th>2019-04-28 16:29:16</th>\n",
       "      <td>NaN</td>\n",
       "      <td>NaN</td>\n",
       "      <td>36.42</td>\n",
       "    </tr>\n",
       "    <tr>\n",
       "      <th>2019-04-28 17:26:52</th>\n",
       "      <td>NaN</td>\n",
       "      <td>NaN</td>\n",
       "      <td>31.43</td>\n",
       "    </tr>\n",
       "    <tr>\n",
       "      <th>2019-04-28 17:38:09</th>\n",
       "      <td>NaN</td>\n",
       "      <td>34.87</td>\n",
       "      <td>NaN</td>\n",
       "    </tr>\n",
       "    <tr>\n",
       "      <th>2019-04-28 19:35:03</th>\n",
       "      <td>NaN</td>\n",
       "      <td>16.96</td>\n",
       "      <td>NaN</td>\n",
       "    </tr>\n",
       "  </tbody>\n",
       "</table>\n",
       "</div>"
      ],
      "text/plain": [
       "type                 Rural  Suburban  Urban\n",
       "date                                       \n",
       "2019-04-28 09:25:03    NaN       NaN  37.35\n",
       "2019-04-28 10:54:14    NaN       NaN  10.07\n",
       "2019-04-28 11:40:49    NaN     43.22    NaN\n",
       "2019-04-28 11:49:26    NaN     39.19    NaN\n",
       "2019-04-28 12:48:34    NaN       NaN  33.35\n",
       "2019-04-28 14:28:36    NaN       NaN  11.46\n",
       "2019-04-28 16:29:16    NaN       NaN  36.42\n",
       "2019-04-28 17:26:52    NaN       NaN  31.43\n",
       "2019-04-28 17:38:09    NaN     34.87    NaN\n",
       "2019-04-28 19:35:03    NaN     16.96    NaN"
      ]
     },
     "execution_count": 15,
     "metadata": {},
     "output_type": "execute_result"
    }
   ],
   "source": [
    "# 5. Create a new DataFrame from the pivot table DataFrame using loc on the given dates, '2019-01-01':'2019-04-29'.\n",
    "fare_jan_apr = fare_pivot.loc['2019-01-01':'2019-04-29']\n",
    "fare_jan_apr.tail(10)\n"
   ]
  },
  {
   "cell_type": "code",
   "execution_count": 16,
   "metadata": {},
   "outputs": [],
   "source": [
    "# 6. Set the \"date\" index to datetime datatype. This is necessary to use the resample() method in Step 8.\n",
    "# df.index = pd.to_datetime(df.index)\n",
    "fare_jan_apr.index = pd.to_datetime(fare_jan_apr.index)"
   ]
  },
  {
   "cell_type": "code",
   "execution_count": 17,
   "metadata": {},
   "outputs": [
    {
     "name": "stdout",
     "output_type": "stream",
     "text": [
      "<class 'pandas.core.frame.DataFrame'>\n",
      "DatetimeIndex: 2196 entries, 2019-01-01 00:08:16 to 2019-04-28 19:35:03\n",
      "Data columns (total 3 columns):\n",
      " #   Column    Non-Null Count  Dtype  \n",
      "---  ------    --------------  -----  \n",
      " 0   Rural     114 non-null    float64\n",
      " 1   Suburban  573 non-null    float64\n",
      " 2   Urban     1509 non-null   float64\n",
      "dtypes: float64(3)\n",
      "memory usage: 68.6 KB\n"
     ]
    }
   ],
   "source": [
    "# 7. Check that the datatype for the index is datetime using df.info()\n",
    "fare_jan_apr.info()"
   ]
  },
  {
   "cell_type": "code",
   "execution_count": 18,
   "metadata": {},
   "outputs": [
    {
     "data": {
      "text/html": [
       "<div>\n",
       "<style scoped>\n",
       "    .dataframe tbody tr th:only-of-type {\n",
       "        vertical-align: middle;\n",
       "    }\n",
       "\n",
       "    .dataframe tbody tr th {\n",
       "        vertical-align: top;\n",
       "    }\n",
       "\n",
       "    .dataframe thead th {\n",
       "        text-align: right;\n",
       "    }\n",
       "</style>\n",
       "<table border=\"1\" class=\"dataframe\">\n",
       "  <thead>\n",
       "    <tr style=\"text-align: right;\">\n",
       "      <th>type</th>\n",
       "      <th>Rural</th>\n",
       "      <th>Suburban</th>\n",
       "      <th>Urban</th>\n",
       "    </tr>\n",
       "    <tr>\n",
       "      <th>date</th>\n",
       "      <th></th>\n",
       "      <th></th>\n",
       "      <th></th>\n",
       "    </tr>\n",
       "  </thead>\n",
       "  <tbody>\n",
       "    <tr>\n",
       "      <th>2019-01-06</th>\n",
       "      <td>187.92</td>\n",
       "      <td>721.60</td>\n",
       "      <td>1661.68</td>\n",
       "    </tr>\n",
       "    <tr>\n",
       "      <th>2019-01-13</th>\n",
       "      <td>67.65</td>\n",
       "      <td>1105.13</td>\n",
       "      <td>2050.43</td>\n",
       "    </tr>\n",
       "    <tr>\n",
       "      <th>2019-01-20</th>\n",
       "      <td>306.00</td>\n",
       "      <td>1218.20</td>\n",
       "      <td>1939.02</td>\n",
       "    </tr>\n",
       "    <tr>\n",
       "      <th>2019-01-27</th>\n",
       "      <td>179.69</td>\n",
       "      <td>1203.28</td>\n",
       "      <td>2129.51</td>\n",
       "    </tr>\n",
       "    <tr>\n",
       "      <th>2019-02-03</th>\n",
       "      <td>333.08</td>\n",
       "      <td>1042.79</td>\n",
       "      <td>2086.94</td>\n",
       "    </tr>\n",
       "    <tr>\n",
       "      <th>2019-02-10</th>\n",
       "      <td>115.80</td>\n",
       "      <td>974.34</td>\n",
       "      <td>2162.64</td>\n",
       "    </tr>\n",
       "    <tr>\n",
       "      <th>2019-02-17</th>\n",
       "      <td>95.82</td>\n",
       "      <td>1045.50</td>\n",
       "      <td>2235.07</td>\n",
       "    </tr>\n",
       "    <tr>\n",
       "      <th>2019-02-24</th>\n",
       "      <td>419.06</td>\n",
       "      <td>1412.74</td>\n",
       "      <td>2466.29</td>\n",
       "    </tr>\n",
       "    <tr>\n",
       "      <th>2019-03-03</th>\n",
       "      <td>175.14</td>\n",
       "      <td>858.46</td>\n",
       "      <td>2218.20</td>\n",
       "    </tr>\n",
       "    <tr>\n",
       "      <th>2019-03-10</th>\n",
       "      <td>303.94</td>\n",
       "      <td>925.27</td>\n",
       "      <td>2470.93</td>\n",
       "    </tr>\n",
       "  </tbody>\n",
       "</table>\n",
       "</div>"
      ],
      "text/plain": [
       "type         Rural  Suburban    Urban\n",
       "date                                 \n",
       "2019-01-06  187.92    721.60  1661.68\n",
       "2019-01-13   67.65   1105.13  2050.43\n",
       "2019-01-20  306.00   1218.20  1939.02\n",
       "2019-01-27  179.69   1203.28  2129.51\n",
       "2019-02-03  333.08   1042.79  2086.94\n",
       "2019-02-10  115.80    974.34  2162.64\n",
       "2019-02-17   95.82   1045.50  2235.07\n",
       "2019-02-24  419.06   1412.74  2466.29\n",
       "2019-03-03  175.14    858.46  2218.20\n",
       "2019-03-10  303.94    925.27  2470.93"
      ]
     },
     "execution_count": 18,
     "metadata": {},
     "output_type": "execute_result"
    }
   ],
   "source": [
    "# 8. Create a new DataFrame using the \"resample()\" function by week 'W' and get the sum of the fares for each week.\n",
    "weekly_fare_df = fare_jan_apr.resample('W').sum()\n",
    "weekly_fare_df.head(10)"
   ]
  },
  {
   "cell_type": "code",
   "execution_count": 25,
   "metadata": {
    "scrolled": true
   },
   "outputs": [
    {
     "data": {
      "image/png": "[encoded data removed]",
      "text/plain": [
       "<Figure size 1440x432 with 1 Axes>"
      ]
     },
     "metadata": {},
     "output_type": "display_data"
    }
   ],
   "source": [
    "# 8. Using the object-oriented interface method, plot the resample DataFrame using the df.plot() function. \n",
    "weekly_fare = weekly_fare_df.plot(figsize = (20,6))\n",
    "# Add title, x-, y-axis labels\n",
    "weekly_fare.set_title(\"Weekly Fare per City Type\")\n",
    "weekly_fare.set_xlabel(\"Month\")\n",
    "weekly_fare.set_ylabel(\"Fare ($USD)\")\n",
    "# Import the style from Matplotlib.\n",
    "from matplotlib import style\n",
    "# Use the graph style fivethirtyeight.\n",
    "style.use('fivethirtyeight')\n",
    "\n",
    "plt.tight_layout()\n",
    "plt.savefig(\"Analysis/PyBer_fare_summary.png\")\n",
    "plt.show()\n",
    "\n",
    "\n"
   ]
  },
  {
   "cell_type": "code",
   "execution_count": null,
   "metadata": {},
   "outputs": [],
   "source": []
  }
 ],
 "metadata": {
  "anaconda-cloud": {},
  "kernelspec": {
   "display_name": "PythonData",
   "language": "python",
   "name": "pythondata"
  },
  "language_info": {
   "codemirror_mode": {
    "name": "ipython",
    "version": 3
   },
   "file_extension": ".py",
   "mimetype": "text/x-python",
   "name": "python",
   "nbconvert_exporter": "python",
   "pygments_lexer": "ipython3",
   "version": "3.7.13"
  }
 },
 "nbformat": 4,
 "nbformat_minor": 2
}
